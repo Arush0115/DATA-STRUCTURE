{
  "nbformat": 4,
  "nbformat_minor": 0,
  "metadata": {
    "colab": {
      "provenance": [],
      "authorship_tag": "ABX9TyPAdsdTUFKw5PxKBE4NOb6/",
      "include_colab_link": true
    },
    "kernelspec": {
      "name": "python3",
      "display_name": "Python 3"
    },
    "language_info": {
      "name": "python"
    }
  },
  "cells": [
    {
      "cell_type": "markdown",
      "metadata": {
        "id": "view-in-github",
        "colab_type": "text"
      },
      "source": [
        "<a href=\"https://colab.research.google.com/github/Arush0115/DATA-STRUCTURE/blob/main/TS%2BSORT.ipynb\" target=\"_parent\"><img src=\"https://colab.research.google.com/assets/colab-badge.svg\" alt=\"Open In Colab\"/></a>"
      ]
    },
    {
      "cell_type": "code",
      "execution_count": 3,
      "metadata": {
        "colab": {
          "base_uri": "https://localhost:8080/"
        },
        "id": "bhgmvC3mseSo",
        "outputId": "c14937cf-ed2f-4493-a7b0-0adc824a825b"
      },
      "outputs": [
        {
          "output_type": "stream",
          "name": "stdout",
          "text": [
            "[0, 1, 4, 6, -2]\n"
          ]
        }
      ],
      "source": [
        "#Selection Sort\n",
        "a=[1,4,6,-2,0]\n",
        "n=len(a)\n",
        "for i in range(n):\n",
        "  min=i\n",
        "  for j in range(i+1,n):\n",
        "    if a[j] < a[min]:\n",
        "      min=j\n",
        "  a[i],a[j]=a[j],a[i]\n",
        "print(a)      \n",
        "\n",
        "\n"
      ]
    },
    {
      "cell_type": "code",
      "source": [
        "#Bubble Sort\n",
        "a=[1,4,3,2,9,5,7]\n",
        "for i in range(len(a)):\n",
        "  for j in range(len(a)-i-1):\n",
        "    if a[j]<a[j+1]:\n",
        "      a[j],a[j+1]=a[j+1],a[j]\n",
        "print(a)      "
      ],
      "metadata": {
        "colab": {
          "base_uri": "https://localhost:8080/"
        },
        "id": "1ULeIUdA1L_j",
        "outputId": "0cd2826a-09fb-4704-8130-c3b582817168"
      },
      "execution_count": 6,
      "outputs": [
        {
          "output_type": "stream",
          "name": "stdout",
          "text": [
            "[9, 7, 5, 4, 3, 2, 1]\n"
          ]
        }
      ]
    },
    {
      "cell_type": "code",
      "source": [
        "#ISERTION SORT\n",
        "a=[1,4,3,2,9,5,7]\n",
        "for i in range(0,len(a)-1):\n",
        "  for j in range(i+1,0,-1):\n",
        "    if a[j-1]<a[j]:\n",
        "      break\n",
        "    a[j-1],a[j]=a[j],a[j-1]\n",
        "print(a)      "
      ],
      "metadata": {
        "colab": {
          "base_uri": "https://localhost:8080/"
        },
        "id": "NwCwoL3zLKgs",
        "outputId": "a4878b9e-7d1c-4ea1-bea3-6958ab3d69a8"
      },
      "execution_count": 19,
      "outputs": [
        {
          "output_type": "stream",
          "name": "stdout",
          "text": [
            "[1, 2, 3, 4, 5, 7, 9]\n"
          ]
        }
      ]
    }
  ]
}