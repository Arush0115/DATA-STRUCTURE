{
  "nbformat": 4,
  "nbformat_minor": 0,
  "metadata": {
    "colab": {
      "provenance": [],
      "authorship_tag": "ABX9TyM4FIsKnOCCeXMbGSHySOGk",
      "include_colab_link": true
    },
    "kernelspec": {
      "name": "python3",
      "display_name": "Python 3"
    },
    "language_info": {
      "name": "python"
    }
  },
  "cells": [
    {
      "cell_type": "markdown",
      "metadata": {
        "id": "view-in-github",
        "colab_type": "text"
      },
      "source": [
        "<a href=\"https://colab.research.google.com/github/Arush0115/DATA-STRUCTURE/blob/main/Searching.ipynb\" target=\"_parent\"><img src=\"https://colab.research.google.com/assets/colab-badge.svg\" alt=\"Open In Colab\"/></a>"
      ]
    },
    {
      "cell_type": "code",
      "execution_count": 13,
      "metadata": {
        "id": "nOh1tCoNhAz1"
      },
      "outputs": [],
      "source": [
        "#Linear search\n",
        "#a=[1,4,6,7,5,3]\n",
        "def linear_search(a,k):\n",
        "  for i in range(len(a)):\n",
        "\n",
        "    if a[i]==k:\n",
        "      return i\n",
        "  return -1      \n",
        "\n"
      ]
    },
    {
      "cell_type": "code",
      "source": [
        "#Binary Search\n",
        "def binary_search(a,k):\n",
        "  s=0\n",
        "  e=len(a)-1\n",
        "  while s<=e:\n",
        "    m=(s+e)//2\n",
        "    if a[m]==k:\n",
        "      return m\n",
        "    if a[m]>k:\n",
        "      e=m-1\n",
        "    else:\n",
        "      s=m+1\n",
        "  return -1          \n"
      ],
      "metadata": {
        "id": "NOnZ3aBUutCQ"
      },
      "execution_count": 22,
      "outputs": []
    },
    {
      "cell_type": "code",
      "source": [
        "a=[1,3,5,7,8,12,14,15,17,19]\n",
        "print(binary_search(a,15))"
      ],
      "metadata": {
        "colab": {
          "base_uri": "https://localhost:8080/"
        },
        "id": "fALhrjHAwvnk",
        "outputId": "1113ea5a-1c57-40e3-c7dd-79c51fa9e5c8"
      },
      "execution_count": 23,
      "outputs": [
        {
          "output_type": "stream",
          "name": "stdout",
          "text": [
            "7\n"
          ]
        }
      ]
    },
    {
      "cell_type": "code",
      "source": [
        "#no of elements less than or equal to b\n",
        "\n",
        "def less_than(A,B):\n",
        "  cnt=0\n",
        "  for i in range(len(A)):\n",
        "    if A[i]<=B:\n",
        "      cnt=cnt+1\n",
        "    \n",
        "  return cnt   \n",
        "\n"
      ],
      "metadata": {
        "id": "eouEOkta0oiN"
      },
      "execution_count": 40,
      "outputs": []
    },
    {
      "cell_type": "code",
      "source": [
        "A=[1,4,5,7,8]\n",
        "print(less_than(A,7))"
      ],
      "metadata": {
        "colab": {
          "base_uri": "https://localhost:8080/"
        },
        "id": "5Aq7L9Mf1ia5",
        "outputId": "b85d8a25-9839-495f-a138-70bd78251d25"
      },
      "execution_count": 41,
      "outputs": [
        {
          "output_type": "stream",
          "name": "stdout",
          "text": [
            "4\n"
          ]
        }
      ]
    }
  ]
}